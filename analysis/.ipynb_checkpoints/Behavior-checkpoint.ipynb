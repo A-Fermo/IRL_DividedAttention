{
 "cells": [
  {
   "cell_type": "markdown",
   "metadata": {},
   "source": [
    "This script intends to perform behavioral analyses (Repeated measures ANOVA with post-hocs) on data recorded as part of the experiment \"Modeling Shift from Efficient to Inefficient divided attention\" (CER 2020-322)."
   ]
  },
  {
   "cell_type": "code",
   "execution_count": 1,
   "metadata": {},
   "outputs": [],
   "source": [
    "import pandas as pd\n",
    "import numpy as np\n",
    "import scipy as sp\n",
    "import matplotlib.pyplot as plt\n",
    "import seaborn as sns\n",
    "import pingouin as pg\n",
    "%matplotlib qt"
   ]
  },
  {
   "cell_type": "markdown",
   "metadata": {},
   "source": [
    "# Visual Dominance Index and baseline task analyses"
   ]
  },
  {
   "cell_type": "code",
   "execution_count": 2,
   "metadata": {
    "scrolled": true
   },
   "outputs": [],
   "source": [
    "mat = sp.io.loadmat('Acc_RT_all.mat') #Path to be modified\n",
    "mat = {k:v for k, v in mat.items() if k[0] != '_'}\n",
    "df = pd.DataFrame({k: np.array(v).flatten('F') for k, v in mat.items()})\n",
    "nSubj = int(len(df)/11)\n",
    "df = df[nSubj:]\n",
    "df.reset_index(drop = True, inplace=True)\n",
    "df['id'] = list(range(1,nSubj+1))*10\n",
    "df['var'] = ['ACC_AS']*nSubj + ['ACC_VS']*nSubj + ['ACC_AV']*nSubj + ['ACC_VA']*nSubj + ['RT_AS']*nSubj + ['RT_VS']*nSubj + ['RT_AV']*nSubj + ['RT_VA']*nSubj + ['VDI_SINGLE']*nSubj + ['VDI_DOUBLE']*nSubj\n",
    "df['modality'] = list(['AUDIO']*nSubj + ['VISUAL']*nSubj)*4+['VDI']*2*nSubj\n",
    "df['task'] = list(['SINGLE']*2*nSubj+['DOUBLE']*2*nSubj)*2+['SINGLE']*nSubj+['DOUBLE']*nSubj"
   ]
  },
  {
   "cell_type": "code",
   "execution_count": 3,
   "metadata": {},
   "outputs": [
    {
     "data": {
      "text/html": [
       "<div>\n",
       "<style scoped>\n",
       "    .dataframe tbody tr th:only-of-type {\n",
       "        vertical-align: middle;\n",
       "    }\n",
       "\n",
       "    .dataframe tbody tr th {\n",
       "        vertical-align: top;\n",
       "    }\n",
       "\n",
       "    .dataframe thead th {\n",
       "        text-align: right;\n",
       "    }\n",
       "</style>\n",
       "<table border=\"1\" class=\"dataframe\">\n",
       "  <thead>\n",
       "    <tr style=\"text-align: right;\">\n",
       "      <th></th>\n",
       "      <th>Behavior_subj</th>\n",
       "      <th>id</th>\n",
       "      <th>var</th>\n",
       "      <th>modality</th>\n",
       "      <th>task</th>\n",
       "    </tr>\n",
       "  </thead>\n",
       "  <tbody>\n",
       "    <tr>\n",
       "      <th>0</th>\n",
       "      <td>100.000000</td>\n",
       "      <td>1</td>\n",
       "      <td>ACC_AS</td>\n",
       "      <td>AUDIO</td>\n",
       "      <td>SINGLE</td>\n",
       "    </tr>\n",
       "    <tr>\n",
       "      <th>1</th>\n",
       "      <td>97.222222</td>\n",
       "      <td>2</td>\n",
       "      <td>ACC_AS</td>\n",
       "      <td>AUDIO</td>\n",
       "      <td>SINGLE</td>\n",
       "    </tr>\n",
       "    <tr>\n",
       "      <th>2</th>\n",
       "      <td>100.000000</td>\n",
       "      <td>3</td>\n",
       "      <td>ACC_AS</td>\n",
       "      <td>AUDIO</td>\n",
       "      <td>SINGLE</td>\n",
       "    </tr>\n",
       "    <tr>\n",
       "      <th>3</th>\n",
       "      <td>94.444444</td>\n",
       "      <td>4</td>\n",
       "      <td>ACC_AS</td>\n",
       "      <td>AUDIO</td>\n",
       "      <td>SINGLE</td>\n",
       "    </tr>\n",
       "    <tr>\n",
       "      <th>4</th>\n",
       "      <td>97.222222</td>\n",
       "      <td>5</td>\n",
       "      <td>ACC_AS</td>\n",
       "      <td>AUDIO</td>\n",
       "      <td>SINGLE</td>\n",
       "    </tr>\n",
       "    <tr>\n",
       "      <th>...</th>\n",
       "      <td>...</td>\n",
       "      <td>...</td>\n",
       "      <td>...</td>\n",
       "      <td>...</td>\n",
       "      <td>...</td>\n",
       "    </tr>\n",
       "    <tr>\n",
       "      <th>225</th>\n",
       "      <td>297.968664</td>\n",
       "      <td>19</td>\n",
       "      <td>VDI_DOUBLE</td>\n",
       "      <td>VDI</td>\n",
       "      <td>DOUBLE</td>\n",
       "    </tr>\n",
       "    <tr>\n",
       "      <th>226</th>\n",
       "      <td>131.161932</td>\n",
       "      <td>20</td>\n",
       "      <td>VDI_DOUBLE</td>\n",
       "      <td>VDI</td>\n",
       "      <td>DOUBLE</td>\n",
       "    </tr>\n",
       "    <tr>\n",
       "      <th>227</th>\n",
       "      <td>160.145238</td>\n",
       "      <td>21</td>\n",
       "      <td>VDI_DOUBLE</td>\n",
       "      <td>VDI</td>\n",
       "      <td>DOUBLE</td>\n",
       "    </tr>\n",
       "    <tr>\n",
       "      <th>228</th>\n",
       "      <td>146.991964</td>\n",
       "      <td>22</td>\n",
       "      <td>VDI_DOUBLE</td>\n",
       "      <td>VDI</td>\n",
       "      <td>DOUBLE</td>\n",
       "    </tr>\n",
       "    <tr>\n",
       "      <th>229</th>\n",
       "      <td>192.735294</td>\n",
       "      <td>23</td>\n",
       "      <td>VDI_DOUBLE</td>\n",
       "      <td>VDI</td>\n",
       "      <td>DOUBLE</td>\n",
       "    </tr>\n",
       "  </tbody>\n",
       "</table>\n",
       "<p>230 rows × 5 columns</p>\n",
       "</div>"
      ],
      "text/plain": [
       "     Behavior_subj  id         var modality    task\n",
       "0       100.000000   1      ACC_AS    AUDIO  SINGLE\n",
       "1        97.222222   2      ACC_AS    AUDIO  SINGLE\n",
       "2       100.000000   3      ACC_AS    AUDIO  SINGLE\n",
       "3        94.444444   4      ACC_AS    AUDIO  SINGLE\n",
       "4        97.222222   5      ACC_AS    AUDIO  SINGLE\n",
       "..             ...  ..         ...      ...     ...\n",
       "225     297.968664  19  VDI_DOUBLE      VDI  DOUBLE\n",
       "226     131.161932  20  VDI_DOUBLE      VDI  DOUBLE\n",
       "227     160.145238  21  VDI_DOUBLE      VDI  DOUBLE\n",
       "228     146.991964  22  VDI_DOUBLE      VDI  DOUBLE\n",
       "229     192.735294  23  VDI_DOUBLE      VDI  DOUBLE\n",
       "\n",
       "[230 rows x 5 columns]"
      ]
     },
     "execution_count": 3,
     "metadata": {},
     "output_type": "execute_result"
    }
   ],
   "source": [
    "df"
   ]
  },
  {
   "cell_type": "code",
   "execution_count": 20,
   "metadata": {},
   "outputs": [],
   "source": [
    "#Data: Acc = Accuracies; RT = Reaction times; VDI = Visual Dominance Index\n",
    "dfAcc = df.iloc[:nSubj*4]\n",
    "dfRT = df.iloc[nSubj*4:2*nSubj*4]\n",
    "dfVDI = df.iloc[2*nSubj*4:]"
   ]
  },
  {
   "cell_type": "code",
   "execution_count": 26,
   "metadata": {},
   "outputs": [
    {
     "data": {
      "text/plain": [
       "Text(0.5, 1.0, 'Accuracy across participants')"
      ]
     },
     "execution_count": 26,
     "metadata": {},
     "output_type": "execute_result"
    }
   ],
   "source": [
    "#BOXPLOTS\n",
    "fig, axes = plt.subplots(1, 2)\n",
    "pltAcc = sns.boxplot(ax = axes[0], x='var', y = 'Behavior_subj', data = dfAcc, palette = \"Set2\")\n",
    "pltAcc.set_xticklabels(['Audio Single', 'Visual Single', 'Audio Dual', 'Visual Dual'])\n",
    "pltAcc.set_xlabel('Task')\n",
    "pltAcc.set_ylabel('Accuracy (%)')\n",
    "pltAcc.set_title('Accuracy across participants')"
   ]
  },
  {
   "cell_type": "code",
   "execution_count": 27,
   "metadata": {},
   "outputs": [
    {
     "data": {
      "text/plain": [
       "Text(0.5, 1.0, 'Reaction times across participants')"
      ]
     },
     "execution_count": 27,
     "metadata": {},
     "output_type": "execute_result"
    }
   ],
   "source": [
    "pltRT =  sns.boxplot(ax = axes[1], x='var', y = 'Behavior_subj', data = dfRT, palette = \"Set2\")\n",
    "pltRT.set_xticklabels(['Visual Single', 'Audio Single', 'Visual Dual', 'Audio Dual'])\n",
    "pltRT.set_xlabel('Task')\n",
    "pltRT.set_ylabel('Reaction time (s)')\n",
    "pltRT.set_title('Reaction times across participants')"
   ]
  },
  {
   "cell_type": "code",
   "execution_count": 23,
   "metadata": {},
   "outputs": [
    {
     "name": "stdout",
     "output_type": "stream",
     "text": [
      "            Source          SS  ddof1  ddof2          MS          F     p-unc  \\\n",
      "0             task  550.271739      1     22  550.271739  29.361676  0.000019   \n",
      "1         modality  446.943773      1     22  446.943773  17.498209  0.000386   \n",
      "2  task * modality  201.372115      1     22  201.372115  10.134689  0.004296   \n",
      "\n",
      "   p-GG-corr       np2  eps  \n",
      "0   0.000019  0.571665  1.0  \n",
      "1   0.000386  0.443013  1.0  \n",
      "2   0.004296  0.315382  1.0  \n",
      "            Source        SS  ddof1  ddof2        MS           F  \\\n",
      "0             task  0.038728      1     22  0.038728   21.981769   \n",
      "1         modality  0.411127      1     22  0.411127  135.872651   \n",
      "2  task * modality  0.000648      1     22  0.000648    0.266214   \n",
      "\n",
      "          p-unc     p-GG-corr       np2  eps  \n",
      "0  1.123081e-04  1.123081e-04  0.499793  1.0  \n",
      "1  6.930586e-11  6.930586e-11  0.860647  1.0  \n",
      "2  6.110297e-01  6.110297e-01  0.011956  1.0  \n",
      "  Contrast       A       B  Paired  Parametric         T   dof       Tail  \\\n",
      "0     task  DOUBLE  SINGLE    True        True -0.515959  22.0  two-sided   \n",
      "\n",
      "     p-unc   BF10    hedges  \n",
      "0  0.61103  0.247 -0.141197  \n"
     ]
    }
   ],
   "source": [
    "#ANOVA\n",
    "# pg.normality(data = df, dv = 'Behavior_subj', group = 'var')\n",
    "resAcc = pg.rm_anova(dv='Behavior_subj', within=['task', 'modality'], subject='id', \n",
    "                  data=dfAcc, detailed=True)\n",
    "resRT = pg.rm_anova(dv='Behavior_subj', within=['task', 'modality'], subject='id', \n",
    "                  data=dfRT, detailed=True)\n",
    "# resVDI = pg.rm_anova(dv='Behavior_subj', within='task', subject='id', \n",
    "#                   data=dfAcc, detailed=True)\n",
    "resVDI = pg.pairwise_ttests(dv = 'Behavior_subj', within = 'task', subject = 'id', padjust = 'bonf', data = dfVDI)\n",
    "print(resAcc)\n",
    "print(resRT)\n",
    "print(resVDI)"
   ]
  },
  {
   "cell_type": "code",
   "execution_count": 25,
   "metadata": {},
   "outputs": [
    {
     "name": "stdout",
     "output_type": "stream",
     "text": [
      "          Contrast modality       A       B    mean(A)    std(A)    mean(B)  \\\n",
      "0         modality        -   AUDIO  VISUAL  93.417874  5.350007  97.826087   \n",
      "1             task        -  DOUBLE  SINGLE  93.176329  5.212129  98.067633   \n",
      "2  modality * task    AUDIO  DOUBLE  SINGLE  89.492754  9.249189  97.342995   \n",
      "3  modality * task   VISUAL  DOUBLE  SINGLE  96.859903  3.276488  98.792271   \n",
      "\n",
      "     std(B) Paired  Parametric         T   dof       Tail     p-unc    p-corr  \\\n",
      "0  2.435550   True        True -4.183086  22.0  two-sided  0.000386       NaN   \n",
      "1  1.996908   True        True -5.418642  22.0  two-sided  0.000019       NaN   \n",
      "2  2.711101   True        True -4.458486  22.0  two-sided  0.000197  0.000394   \n",
      "3  2.021574   True        True -3.809917  22.0  two-sided  0.000958  0.001916   \n",
      "\n",
      "  p-adjust      BF10  eta-square  \n",
      "0      NaN    81.902    0.219472  \n",
      "1      NaN  1203.718    0.277445  \n",
      "2     bonf   148.834    0.249074  \n",
      "3     bonf    36.792    0.111870  \n",
      "          Contrast    task       A       B   mean(A)    std(A)   mean(B)  \\\n",
      "0             task       -  DOUBLE  SINGLE  0.395337  0.057965  0.354303   \n",
      "1         modality       -   AUDIO  VISUAL  0.441669  0.064572  0.307971   \n",
      "2  task * modality  DOUBLE   AUDIO  VISUAL  0.459532  0.086768  0.331142   \n",
      "3  task * modality  SINGLE   AUDIO  VISUAL  0.423805  0.061956  0.284800   \n",
      "\n",
      "     std(B) Paired  Parametric          T   dof       Tail         p-unc  \\\n",
      "0  0.036378   True        True   4.688472  22.0  two-sided  1.123081e-04   \n",
      "1  0.033849   True        True  11.656442  22.0  two-sided  6.930586e-11   \n",
      "2  0.055478   True        True   6.983792  22.0  two-sided  5.210531e-07   \n",
      "3  0.019518   True        True  11.886257  22.0  two-sided  4.772422e-11   \n",
      "\n",
      "         p-corr p-adjust       BF10  eta-square  \n",
      "0           NaN      NaN    245.633    0.152376  \n",
      "1           NaN      NaN  1.351e+08    0.627072  \n",
      "2  1.042106e-06     bonf  3.266e+04    0.437277  \n",
      "3  9.544844e-11     bonf  1.919e+08    0.696018  \n"
     ]
    }
   ],
   "source": [
    "# POST-HOCS\n",
    "post_Hocs_Acc = pg.pairwise_ttests(dv = 'Behavior_subj', within = ['modality','task'], subject = 'id', padjust = 'bonf', effsize = 'eta-square', data = dfAcc, return_desc = True, interaction = True)\n",
    "post_Hocs_RT = pg.pairwise_ttests(dv = 'Behavior_subj', within = ['task','modality'], subject = 'id', padjust = 'bonf', effsize = 'eta-square', data = dfRT, return_desc = True, interaction = True)\n",
    "\n",
    "print(post_Hocs_Acc)\n",
    "print(post_Hocs_RT)"
   ]
  },
  {
   "cell_type": "markdown",
   "metadata": {},
   "source": [
    "# AudioVisual switching task analysis"
   ]
  },
  {
   "cell_type": "code",
   "execution_count": 28,
   "metadata": {},
   "outputs": [],
   "source": [
    "#Pas du tout optimisé ^^\" mais ça fonctionne...\n",
    "mat = pd.read_csv('G:\\Expé\\ANITI\\Data\\Scripts analyse\\RT_all.csv', header = None, names = ['RT', 'id', 'var', 'modality', 'task']) #Path to be modified\n",
    "dfRT = pd.DataFrame(mat)\n",
    "dfRT.loc[dfRT['var']==1, 'modality'] ='VISUAL'\n",
    "dfRT.loc[dfRT['var']==3, 'modality'] ='VISUAL'\n",
    "dfRT.loc[dfRT['var']==2, 'modality'] ='AUDIO'\n",
    "dfRT.loc[dfRT['var']==4, 'modality'] ='AUDIO'\n",
    "dfRT.loc[dfRT['var']==1, 'task'] ='SINGLE'\n",
    "dfRT.loc[dfRT['var']==3, 'task'] ='SWITCH'\n",
    "dfRT.loc[dfRT['var']==2, 'task'] ='SINGLE'\n",
    "dfRT.loc[dfRT['var']==4, 'task'] ='SWITCH'\n",
    "mat = pd.read_csv('G:\\Expé\\ANITI\\Data\\Scripts analyse\\Acc_all.csv', header = None, names = ['Acc', 'id', 'var', 'modality', 'task']) #Path to be modified\n",
    "dfAcc = pd.DataFrame(mat)\n",
    "dfAcc.loc[dfAcc['var']==1, 'modality'] ='VISUAL'\n",
    "dfAcc.loc[dfAcc['var']==3, 'modality'] ='VISUAL'\n",
    "dfAcc.loc[dfAcc['var']==2, 'modality'] ='AUDIO'\n",
    "dfAcc.loc[dfAcc['var']==4, 'modality'] ='AUDIO'\n",
    "dfAcc.loc[dfAcc['var']==1, 'task'] ='SINGLE'\n",
    "dfAcc.loc[dfAcc['var']==3, 'task'] ='SWITCH'\n",
    "dfAcc.loc[dfAcc['var']==2, 'task'] ='SINGLE'\n",
    "dfAcc.loc[dfAcc['var']==4, 'task'] ='SWITCH'"
   ]
  },
  {
   "cell_type": "code",
   "execution_count": 29,
   "metadata": {},
   "outputs": [
    {
     "data": {
      "text/html": [
       "<div>\n",
       "<style scoped>\n",
       "    .dataframe tbody tr th:only-of-type {\n",
       "        vertical-align: middle;\n",
       "    }\n",
       "\n",
       "    .dataframe tbody tr th {\n",
       "        vertical-align: top;\n",
       "    }\n",
       "\n",
       "    .dataframe thead th {\n",
       "        text-align: right;\n",
       "    }\n",
       "</style>\n",
       "<table border=\"1\" class=\"dataframe\">\n",
       "  <thead>\n",
       "    <tr style=\"text-align: right;\">\n",
       "      <th></th>\n",
       "      <th>RT</th>\n",
       "      <th>id</th>\n",
       "      <th>var</th>\n",
       "      <th>modality</th>\n",
       "      <th>task</th>\n",
       "    </tr>\n",
       "  </thead>\n",
       "  <tbody>\n",
       "    <tr>\n",
       "      <th>0</th>\n",
       "      <td>1.702</td>\n",
       "      <td>1</td>\n",
       "      <td>1</td>\n",
       "      <td>VISUAL</td>\n",
       "      <td>SINGLE</td>\n",
       "    </tr>\n",
       "    <tr>\n",
       "      <th>1</th>\n",
       "      <td>1.228</td>\n",
       "      <td>1</td>\n",
       "      <td>1</td>\n",
       "      <td>VISUAL</td>\n",
       "      <td>SINGLE</td>\n",
       "    </tr>\n",
       "    <tr>\n",
       "      <th>2</th>\n",
       "      <td>1.424</td>\n",
       "      <td>1</td>\n",
       "      <td>1</td>\n",
       "      <td>VISUAL</td>\n",
       "      <td>SINGLE</td>\n",
       "    </tr>\n",
       "    <tr>\n",
       "      <th>3</th>\n",
       "      <td>1.380</td>\n",
       "      <td>1</td>\n",
       "      <td>1</td>\n",
       "      <td>VISUAL</td>\n",
       "      <td>SINGLE</td>\n",
       "    </tr>\n",
       "    <tr>\n",
       "      <th>4</th>\n",
       "      <td>1.382</td>\n",
       "      <td>1</td>\n",
       "      <td>1</td>\n",
       "      <td>VISUAL</td>\n",
       "      <td>SINGLE</td>\n",
       "    </tr>\n",
       "    <tr>\n",
       "      <th>...</th>\n",
       "      <td>...</td>\n",
       "      <td>...</td>\n",
       "      <td>...</td>\n",
       "      <td>...</td>\n",
       "      <td>...</td>\n",
       "    </tr>\n",
       "    <tr>\n",
       "      <th>5344</th>\n",
       "      <td>1.526</td>\n",
       "      <td>23</td>\n",
       "      <td>4</td>\n",
       "      <td>AUDIO</td>\n",
       "      <td>SWITCH</td>\n",
       "    </tr>\n",
       "    <tr>\n",
       "      <th>5345</th>\n",
       "      <td>1.280</td>\n",
       "      <td>23</td>\n",
       "      <td>4</td>\n",
       "      <td>AUDIO</td>\n",
       "      <td>SWITCH</td>\n",
       "    </tr>\n",
       "    <tr>\n",
       "      <th>5346</th>\n",
       "      <td>1.280</td>\n",
       "      <td>23</td>\n",
       "      <td>4</td>\n",
       "      <td>AUDIO</td>\n",
       "      <td>SWITCH</td>\n",
       "    </tr>\n",
       "    <tr>\n",
       "      <th>5347</th>\n",
       "      <td>1.300</td>\n",
       "      <td>23</td>\n",
       "      <td>4</td>\n",
       "      <td>AUDIO</td>\n",
       "      <td>SWITCH</td>\n",
       "    </tr>\n",
       "    <tr>\n",
       "      <th>5348</th>\n",
       "      <td>1.794</td>\n",
       "      <td>23</td>\n",
       "      <td>4</td>\n",
       "      <td>AUDIO</td>\n",
       "      <td>SWITCH</td>\n",
       "    </tr>\n",
       "  </tbody>\n",
       "</table>\n",
       "<p>5349 rows × 5 columns</p>\n",
       "</div>"
      ],
      "text/plain": [
       "         RT  id  var modality    task\n",
       "0     1.702   1    1   VISUAL  SINGLE\n",
       "1     1.228   1    1   VISUAL  SINGLE\n",
       "2     1.424   1    1   VISUAL  SINGLE\n",
       "3     1.380   1    1   VISUAL  SINGLE\n",
       "4     1.382   1    1   VISUAL  SINGLE\n",
       "...     ...  ..  ...      ...     ...\n",
       "5344  1.526  23    4    AUDIO  SWITCH\n",
       "5345  1.280  23    4    AUDIO  SWITCH\n",
       "5346  1.280  23    4    AUDIO  SWITCH\n",
       "5347  1.300  23    4    AUDIO  SWITCH\n",
       "5348  1.794  23    4    AUDIO  SWITCH\n",
       "\n",
       "[5349 rows x 5 columns]"
      ]
     },
     "execution_count": 29,
     "metadata": {},
     "output_type": "execute_result"
    }
   ],
   "source": [
    "dfRT"
   ]
  },
  {
   "cell_type": "code",
   "execution_count": 30,
   "metadata": {},
   "outputs": [
    {
     "data": {
      "text/plain": [
       "Text(0.5, 1.0, 'Reaction times across participants')"
      ]
     },
     "execution_count": 30,
     "metadata": {},
     "output_type": "execute_result"
    }
   ],
   "source": [
    "#BOXPLOTS\n",
    "fig2, axes2 = plt.subplots(1, 2)\n",
    "pltAcc = sns.boxplot(ax = axes2[0], x='var', y = 'Acc', data = dfAcc, palette = \"Set2\")\n",
    "pltAcc.set_xticklabels(['Visual Single', 'Audio Single', 'Visual switch', 'Audio switch'])\n",
    "pltAcc.set_xlabel('Task')\n",
    "pltAcc.set_ylabel('Accuracy (%)')\n",
    "pltAcc.set_title('Accuracy across participants')\n",
    "pltRT =  sns.boxplot(ax = axes2[1], x='var', y = 'RT', data = dfRT, palette = \"Set2\")\n",
    "pltRT.set_xticklabels(['Visual Single', 'Audio Single', 'Visual switch', 'Audio switch'])\n",
    "pltRT.set_xlabel('Task')\n",
    "pltRT.set_ylabel('Reaction time (s)')\n",
    "pltRT.set_title('Reaction times across participants')"
   ]
  },
  {
   "cell_type": "code",
   "execution_count": 31,
   "metadata": {},
   "outputs": [
    {
     "name": "stdout",
     "output_type": "stream",
     "text": [
      "            Source           SS  ddof1  ddof2           MS          F  \\\n",
      "0             task  1528.532609      1     22  1528.532609  16.977544   \n",
      "1         modality    35.315217      1     22    35.315217   1.106848   \n",
      "2  task * modality    40.445652      1     22    40.445652   1.191483   \n",
      "\n",
      "      p-unc  p-GG-corr       np2  eps  \n",
      "0  0.000450   0.000450  0.435572  1.0  \n",
      "1  0.304187   0.304187  0.047901  1.0  \n",
      "2  0.286841   0.286841  0.051376  1.0  \n",
      "            Source        SS  ddof1  ddof2        MS         F     p-unc  \\\n",
      "0             task  0.021673      1     22  0.021673  3.695828  0.067592   \n",
      "1         modality  0.000253      1     22  0.000253  0.023929  0.878476   \n",
      "2  task * modality  0.020072      1     22  0.020072  3.428486  0.077550   \n",
      "\n",
      "   p-GG-corr       np2  eps  \n",
      "0   0.067592  0.143830  1.0  \n",
      "1   0.878476  0.001087  1.0  \n",
      "2   0.077550  0.134829  1.0  \n"
     ]
    }
   ],
   "source": [
    "#ANOVA\n",
    "# pg.normality(data = df, dv = 'Behavior_subj', group = 'var')\n",
    "resAcc = pg.rm_anova(dv='Acc', within=['task', 'modality'], subject='id', \n",
    "                  data=dfAcc, detailed=True)\n",
    "resRT = pg.rm_anova(dv='RT', within=['task', 'modality'], subject='id', \n",
    "                  data=dfRT, detailed=True)\n",
    "print(resAcc)\n",
    "print(resRT)"
   ]
  }
 ],
 "metadata": {
  "kernelspec": {
   "display_name": "Python 3",
   "language": "python",
   "name": "python3"
  },
  "language_info": {
   "codemirror_mode": {
    "name": "ipython",
    "version": 3
   },
   "file_extension": ".py",
   "mimetype": "text/x-python",
   "name": "python",
   "nbconvert_exporter": "python",
   "pygments_lexer": "ipython3",
   "version": "3.9.4"
  }
 },
 "nbformat": 4,
 "nbformat_minor": 4
}
